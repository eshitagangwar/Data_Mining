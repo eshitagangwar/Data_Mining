{
 "cells": [
  {
   "cell_type": "code",
   "execution_count": 5,
   "metadata": {},
   "outputs": [],
   "source": [
    "import findspark\n",
    "findspark.init()\n",
    "findspark.find()\n",
    "import pyspark\n",
    "findspark.find()\n",
    "from pyspark import SparkContext\n",
    "import json\n",
    "from pyspark import SparkConf\n",
    "\n",
    "def stopword_removal(word):\n",
    "    if word not in stop_words_set:\n",
    "        return ''.join(ch for ch in word if ch not in remove)\n",
    "\n",
    "\n",
    "import re\n",
    "if __name__ == '__main__':\n",
    "    \n",
    "    read_file = sys.argv[1]\n",
    "    write_file = sys.argv[2]\n",
    "    read_stop = sys.argv[3]\n",
    "    target_year = sys.argv[4]\n",
    "    m_user = sys.argv[5]\n",
    "    n_word = sys.argv[6]\n",
    "    remove = set(r\"\"\"()[],.!?:;\"\"\")\n",
    "    stop_words_set = set(word.strip() for word in open(read_stop))\n",
    "    sc = SparkContext.getOrCreate(SparkConf().setMaster(\"local[*]\"))\n",
    "    ans = dict()\n",
    "    input_lines = sc.textFile(read_file).map(lambda row: json.loads(row))\n",
    "    \n",
    "    data = input_lines.map(lambda kv: (kv['review_id'] ,kv['date'],kv['user_id'],kv['business_id'],kv['text']))\n",
    "    \n",
    "    ans['A'] =data.count()\n",
    "    \n",
    "    ans['B'] = data.map(lambda kv: kv[1]).map(lambda kv : kv[0]+kv[1]+kv[2]+kv[3] ) \\\n",
    "              .filter(lambda kv:int(kv) == target_year).count()\n",
    "\n",
    "    ans['C'] = data.map(lambda kv : kv[2]).distinct().count()\n",
    "    \n",
    "    ans['D'] = data.map(lambda kv: (kv[2], 1)).reduceByKey(lambda a, b: a + b) \\\n",
    "              .takeOrdered(m_user, key=lambda kv: (-kv[1], kv[0]))\n",
    "     \n",
    "    words_dict = data.map(lambda kv: kv[4]).flatMap(lambda text: text.lower().split(' ')) \\\n",
    "                 .map(lambda word: (stopword_removal(word), 1)) \\\n",
    "                 .filter(lambda kv: (kv[0] is not None) and (kv[0] is not \"\")) \\\n",
    "                .reduceByKey(lambda a, b: a + b).takeOrdered(n_word, key=lambda kv: (-kv[1], kv[0]))\n",
    "    ans['E'] =list(map(lambda kv: kv[0], words_dict))\n",
    "    json.dump(ans, open(\"output.json\",\"w\"))\n"
   ]
  },
  {
   "cell_type": "code",
   "execution_count": null,
   "metadata": {},
   "outputs": [],
   "source": []
  }
 ],
 "metadata": {
  "kernelspec": {
   "display_name": "Python 3",
   "language": "python",
   "name": "python3"
  },
  "language_info": {
   "codemirror_mode": {
    "name": "ipython",
    "version": 3
   },
   "file_extension": ".py",
   "mimetype": "text/x-python",
   "name": "python",
   "nbconvert_exporter": "python",
   "pygments_lexer": "ipython3",
   "version": "3.7.6"
  }
 },
 "nbformat": 4,
 "nbformat_minor": 4
}
