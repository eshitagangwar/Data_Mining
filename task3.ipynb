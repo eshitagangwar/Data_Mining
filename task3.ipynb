{
 "cells": [
  {
   "cell_type": "code",
   "execution_count": null,
   "metadata": {},
   "outputs": [],
   "source": [
    "import json\n",
    "import sys\n",
    "from operator import add\n",
    "\n",
    "from pyspark import SparkContext\n",
    "\n",
    "\n",
    "def review_partitioner(key):\n",
    "    return ord(key[:1])\n",
    "\n",
    "\n",
    "if __name__ == '__main__':\n",
    "\n",
    "    \n",
    "    read_file = sys.argv[1]\n",
    "    write_file = sys.argv[2]\n",
    "    flag = sys.argv[3]\n",
    "    num_partition = int(sys.argv[4])\n",
    "    num_n = sys.argv[5]\n",
    "\n",
    "    result_dict = dict()\n",
    "\n",
    "    sc = SparkContext.getOrCreate()\n",
    "\n",
    "    rd = sc.textFile(read_file).map(lambda row: json.loads(row))\n",
    "    bd = rd.map(lambda kv: (kv['business_id'], 1))\n",
    "\n",
    "    if flag != \"default\":\n",
    "        bd = bd.partitionBy(num_partition, review_partitioner)\n",
    "\n",
    "    result_dict['n_partitions'] = bd.getNumPartitions()\n",
    "    result_dict['n_items'] = bd.glom().map(len).collect()\n",
    "    result_dict['result'] = bd.reduceByKey(lambda a, b: a+b).filter(lambda kv: kv[1] > int(num_n)).collect()\n",
    "\n",
    "    json.dump(result_dict, output_file)\n",
    "    "
   ]
  }
 ],
 "metadata": {
  "kernelspec": {
   "display_name": "Python 3",
   "language": "python",
   "name": "python3"
  },
  "language_info": {
   "codemirror_mode": {
    "name": "ipython",
    "version": 3
   },
   "file_extension": ".py",
   "mimetype": "text/x-python",
   "name": "python",
   "nbconvert_exporter": "python",
   "pygments_lexer": "ipython3",
   "version": "3.7.6"
  }
 },
 "nbformat": 4,
 "nbformat_minor": 4
}
